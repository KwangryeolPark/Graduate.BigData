{
 "cells": [
  {
   "cell_type": "code",
   "execution_count": 481,
   "metadata": {},
   "outputs": [
    {
     "name": "stdout",
     "output_type": "stream",
     "text": [
      "6 clusters found\n",
      "Number of vertexes: 63\n"
     ]
    }
   ],
   "source": [
    "import numpy as np \n",
    "import igraph as ig\n",
    "import leidenalg as la\n",
    "import matplotlib.pyplot as plt\n",
    "import pandas as pd\n",
    "from tqdm import tqdm\n",
    "from sklearn.metrics import normalized_mutual_info_score\n",
    "\n",
    "iter = 2\n",
    "data_number = 2\n",
    "\n",
    "data_path = f'dataset/TC1-{data_number}/1-{data_number}.dat'\n",
    "label_path = f'dataset/TC1-{data_number}/1-{data_number}-c.dat'\n",
    "\n",
    "data = np.loadtxt(data_path).astype(int)\n",
    "graph = ig.Graph(data, directed=False)\n",
    "partition = la.find_partition(graph, la.ModularityVertexPartition, n_iterations=iter, seed=7777,)\n",
    "vertices = graph.vcount()\n",
    "\n",
    "answer = pd.read_csv(label_path, sep='\\t', header=None)\n",
    "labels = answer[1].values\n",
    "\n",
    "print(f\"{len(partition)} clusters found\")\n",
    "print(f\"Number of vertexes: {vertices}\")"
   ]
  },
  {
   "cell_type": "code",
   "execution_count": 482,
   "metadata": {},
   "outputs": [
    {
     "name": "stdout",
     "output_type": "stream",
     "text": [
      "Original NMI: 0.49835093340105224\n",
      "Original modularity: 0.5241090146750523\n"
     ]
    }
   ],
   "source": [
    "pred_labels = [0] * (vertices - 1)\n",
    "for id, nodes in enumerate(partition):\n",
    "    for node in nodes:\n",
    "        pred_labels[node - 1] = id\n",
    "\n",
    "pred_labels = np.array(pred_labels)\n",
    "original_nmi = normalized_mutual_info_score(answer[1], pred_labels)\n",
    "\n",
    "original_modularity = partition.modularity\n",
    "print(f\"Original NMI: {original_nmi}\")\n",
    "print(f\"Original modularity: {original_modularity}\")"
   ]
  },
  {
   "cell_type": "code",
   "execution_count": 483,
   "metadata": {},
   "outputs": [
    {
     "name": "stderr",
     "output_type": "stream",
     "text": [
      "100%|██████████| 6/6 [00:00<00:00, 2345.15it/s]"
     ]
    },
    {
     "name": "stdout",
     "output_type": "stream",
     "text": [
      "5 is empty\n"
     ]
    },
    {
     "name": "stderr",
     "output_type": "stream",
     "text": [
      "\n"
     ]
    }
   ],
   "source": [
    "cluster_set = []\n",
    "\n",
    "n_of_valid_vertices = 0\n",
    "for cluster_index, cluster_vertices in tqdm(enumerate(partition), total=len(partition)):\n",
    "    new_graph = []\n",
    "    for index in range(len(data)):\n",
    "        node1, node2 = data[index]\n",
    "        # assert node1 != node2\n",
    "        if node1 in cluster_vertices and node2 in cluster_vertices:\n",
    "            new_graph.append([node1, node2])\n",
    "\n",
    "    new_graph = np.array(new_graph)\n",
    "    unique_nodes, count = np.unique(new_graph, return_counts=True)\n",
    "    \n",
    "    # Mapping\n",
    "    old2new = {}\n",
    "    new2old = {}\n",
    "    for i, node in enumerate(unique_nodes):\n",
    "        old2new[node] = i\n",
    "        new2old[i] = node\n",
    "        \n",
    "    new_vertices = np.array([[old2new[node1], old2new[node2]] for node1, node2 in new_graph])\n",
    "    if len(new_vertices) == 0:\n",
    "        print(f'{cluster_index} is empty')\n",
    "        continue\n",
    "    \n",
    "    if np.random.rand() >= 0.5:\n",
    "        cluster_set.append(list(cluster_vertices))\n",
    "        continue\n",
    "    \n",
    "    # Generate sub-graphs\n",
    "    new_graph = ig.Graph(new_vertices, directed=False)\n",
    "    sub_partition = la.find_partition(new_graph, la.ModularityVertexPartition, n_iterations=iter, seed=7777)\n",
    "    n_of_valid_vertices += len(cluster_vertices)\n",
    "\n",
    "    # if len(unique_nodes) != len(cluster_vertices):\n",
    "    #     print(list(unique_nodes))\n",
    "    #     print(cluster_vertices)\n",
    "\n",
    "    check_assert_list = []\n",
    "    for index, sub_vertices in enumerate(sub_partition):\n",
    "        old_sub_vertices = []\n",
    "        for new_vertex in sub_vertices:\n",
    "            old_sub_vertices.append(new2old[new_vertex])\n",
    "        check_assert_list.extend(old_sub_vertices)\n",
    "        if len(old_sub_vertices) != 0:\n",
    "            cluster_set.append(old_sub_vertices)\n",
    "\n",
    "    #     assert len(old_sub_vertices) != 0\n",
    "    \n",
    "    # check_assert = False\n",
    "    # assert len(check_assert_list) == len(list(old2new.keys()))\n",
    "    # for node1, node2 in zip(sorted(check_assert_list), sorted(list(old2new.keys()))):\n",
    "    #     assert node1 == node2\n",
    "        "
   ]
  },
  {
   "cell_type": "code",
   "execution_count": 484,
   "metadata": {},
   "outputs": [
    {
     "name": "stdout",
     "output_type": "stream",
     "text": [
      "Found clusters: 11\n",
      "Total nodes: 62\n"
     ]
    }
   ],
   "source": [
    "print(f\"Found clusters: {len(cluster_set)}\")\n",
    "total_nodes = 0\n",
    "for index, cluster in enumerate(cluster_set):\n",
    "    total_nodes += len(cluster)\n",
    "print(f\"Total nodes: {total_nodes}\")"
   ]
  },
  {
   "cell_type": "code",
   "execution_count": 485,
   "metadata": {},
   "outputs": [
    {
     "data": {
      "text/plain": [
       "<BarContainer object of 2 artists>"
      ]
     },
     "execution_count": 485,
     "metadata": {},
     "output_type": "execute_result"
    },
    {
     "data": {
      "image/png": "[encoded data removed]",
      "text/plain": [
       "<Figure size 2000x500 with 3 Axes>"
      ]
     },
     "metadata": {},
     "output_type": "display_data"
    }
   ],
   "source": [
    "fig, axes = plt.subplots(1, 3, figsize=(20, 5))\n",
    "counts = sorted([len(cluster) for cluster in partition])\n",
    "axes[2].bar(range(len(counts)), counts, color='b')\n",
    "\n",
    "counts = sorted([len(cluster) for cluster in cluster_set])\n",
    "axes[1].bar(range(len(counts)), counts, color='g')\n",
    "\n",
    "unique, counts = np.unique(labels, return_counts=True)\n",
    "counts = sorted(counts)\n",
    "axes[0].bar(range(len(counts)), counts, color='r')\n",
    "\n"
   ]
  },
  {
   "cell_type": "code",
   "execution_count": 486,
   "metadata": {},
   "outputs": [
    {
     "name": "stdout",
     "output_type": "stream",
     "text": [
      "Ori NMI: 0.49835093340105224\n",
      "Sub NMI: 0.42058744779155094\n",
      "Improvement:  -0.0777634856095013 Percentage:  -15.604161725713167\n",
      "Original modularity: 0.5241090146750523\n"
     ]
    }
   ],
   "source": [
    "pred_labels = [0] * total_nodes\n",
    "for id, nodes in enumerate(cluster_set):\n",
    "    for node in nodes:\n",
    "        pred_labels[node - 1] = id\n",
    "\n",
    "pred_labels = np.array(pred_labels)\n",
    "sub_nmi = normalized_mutual_info_score(answer[1], pred_labels)\n",
    "print(f\"Ori NMI: {original_nmi}\")\n",
    "print(f\"Sub NMI: {sub_nmi}\")\n",
    "\n",
    "print(\"Improvement: \", sub_nmi - original_nmi, \"Percentage: \", (sub_nmi - original_nmi) / original_nmi * 100)\n",
    "print(f\"Original modularity: {original_modularity}\")"
   ]
  }
 ],
 "metadata": {
  "kernelspec": {
   "display_name": "p3.8",
   "language": "python",
   "name": "python3"
  },
  "language_info": {
   "codemirror_mode": {
    "name": "ipython",
    "version": 3
   },
   "file_extension": ".py",
   "mimetype": "text/x-python",
   "name": "python",
   "nbconvert_exporter": "python",
   "pygments_lexer": "ipython3",
   "version": "3.10.10"
  }
 },
 "nbformat": 4,
 "nbformat_minor": 2
}
