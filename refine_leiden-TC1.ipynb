{
 "cells": [
  {
   "cell_type": "code",
   "execution_count": 1,
   "metadata": {},
   "outputs": [
    {
     "name": "stdout",
     "output_type": "stream",
     "text": [
      "17 clusters found\n",
      "Number of vertexes: 10001\n"
     ]
    }
   ],
   "source": [
    "import numpy as np \n",
    "import igraph as ig\n",
    "import leidenalg as la\n",
    "import matplotlib.pyplot as plt\n",
    "import pandas as pd\n",
    "from tqdm import tqdm\n",
    "from sklearn.metrics import normalized_mutual_info_score\n",
    "\n",
    "iter = 2\n",
    "data_number = 10\n",
    "\n",
    "data_path = f'dataset/TC1-{data_number}/1-{data_number}.dat'\n",
    "label_path = f'dataset/TC1-{data_number}/1-{data_number}-c.dat'\n",
    "\n",
    "data = np.loadtxt(data_path).astype(int)\n",
    "graph = ig.Graph(data, directed=False)\n",
    "partition = la.find_partition(graph, la.ModularityVertexPartition, n_iterations=iter, seed=7777,)\n",
    "\n",
    "vertices = graph.vcount() - 1\n",
    "\n",
    "answer = pd.read_csv(label_path, sep='\\t', header=None)\n",
    "labels = answer[1].values\n",
    "\n",
    "print(f\"{len(partition)} clusters found\")\n",
    "print(f\"Number of vertexes: {vertices}\")"
   ]
  },
  {
   "cell_type": "code",
   "execution_count": 2,
   "metadata": {},
   "outputs": [
    {
     "name": "stdout",
     "output_type": "stream",
     "text": [
      "Original NMI: 0.12678448772894274\n",
      "Original modularity: 0.21181441655483504\n"
     ]
    }
   ],
   "source": [
    "pred_labels = [0] * (vertices - 1)\n",
    "for id, nodes in enumerate(partition):\n",
    "    for node in nodes:\n",
    "        if node != 0:\n",
    "            pred_labels[node - 1] = id\n",
    "\n",
    "pred_labels = np.array(pred_labels)\n",
    "original_nmi = normalized_mutual_info_score(answer[1], pred_labels)\n",
    "\n",
    "original_modularity = partition.modularity\n",
    "print(f\"Original NMI: {original_nmi}\")\n",
    "print(f\"Original modularity: {original_modularity}\")"
   ]
  },
  {
   "cell_type": "code",
   "execution_count": 3,
   "metadata": {},
   "outputs": [
    {
     "name": "stderr",
     "output_type": "stream",
     "text": [
      "  6%|▌         | 1/17 [00:07<01:58,  7.41s/it]"
     ]
    },
    {
     "name": "stdout",
     "output_type": "stream",
     "text": [
      "Cluster 0 has been divided into 15 clusters\n"
     ]
    },
    {
     "name": "stderr",
     "output_type": "stream",
     "text": [
      " 12%|█▏        | 2/17 [00:11<01:24,  5.66s/it]"
     ]
    },
    {
     "name": "stdout",
     "output_type": "stream",
     "text": [
      "Cluster 1 has been divided into 16 clusters\n"
     ]
    },
    {
     "name": "stderr",
     "output_type": "stream",
     "text": [
      " 18%|█▊        | 3/17 [00:16<01:09,  4.98s/it]"
     ]
    },
    {
     "name": "stdout",
     "output_type": "stream",
     "text": [
      "Cluster 2 has been divided into 16 clusters\n"
     ]
    },
    {
     "name": "stderr",
     "output_type": "stream",
     "text": [
      " 24%|██▎       | 4/17 [00:19<00:58,  4.53s/it]"
     ]
    },
    {
     "name": "stdout",
     "output_type": "stream",
     "text": [
      "Cluster 3 has been divided into 16 clusters\n"
     ]
    },
    {
     "name": "stderr",
     "output_type": "stream",
     "text": [
      " 29%|██▉       | 5/17 [00:23<00:49,  4.12s/it]"
     ]
    },
    {
     "name": "stdout",
     "output_type": "stream",
     "text": [
      "Cluster 4 has been divided into 16 clusters\n"
     ]
    },
    {
     "name": "stderr",
     "output_type": "stream",
     "text": [
      " 35%|███▌      | 6/17 [00:25<00:39,  3.62s/it]"
     ]
    },
    {
     "name": "stdout",
     "output_type": "stream",
     "text": [
      "Cluster 5 has been divided into 15 clusters\n"
     ]
    },
    {
     "name": "stderr",
     "output_type": "stream",
     "text": [
      " 41%|████      | 7/17 [00:28<00:32,  3.26s/it]"
     ]
    },
    {
     "name": "stdout",
     "output_type": "stream",
     "text": [
      "Cluster 6 has been divided into 14 clusters\n"
     ]
    },
    {
     "name": "stderr",
     "output_type": "stream",
     "text": [
      " 47%|████▋     | 8/17 [00:30<00:25,  2.88s/it]"
     ]
    },
    {
     "name": "stdout",
     "output_type": "stream",
     "text": [
      "Cluster 7 has been divided into 15 clusters\n"
     ]
    },
    {
     "name": "stderr",
     "output_type": "stream",
     "text": [
      " 53%|█████▎    | 9/17 [00:31<00:19,  2.45s/it]"
     ]
    },
    {
     "name": "stdout",
     "output_type": "stream",
     "text": [
      "Cluster 8 has been divided into 14 clusters\n"
     ]
    },
    {
     "name": "stderr",
     "output_type": "stream",
     "text": [
      " 59%|█████▉    | 10/17 [00:33<00:15,  2.15s/it]"
     ]
    },
    {
     "name": "stdout",
     "output_type": "stream",
     "text": [
      "Cluster 9 has been divided into 14 clusters\n"
     ]
    },
    {
     "name": "stderr",
     "output_type": "stream",
     "text": [
      " 65%|██████▍   | 11/17 [00:34<00:11,  1.95s/it]"
     ]
    },
    {
     "name": "stdout",
     "output_type": "stream",
     "text": [
      "Cluster 10 has been divided into 15 clusters\n"
     ]
    },
    {
     "name": "stderr",
     "output_type": "stream",
     "text": [
      " 71%|███████   | 12/17 [00:36<00:08,  1.73s/it]"
     ]
    },
    {
     "name": "stdout",
     "output_type": "stream",
     "text": [
      "Cluster 11 has been divided into 13 clusters\n"
     ]
    },
    {
     "name": "stderr",
     "output_type": "stream",
     "text": [
      " 76%|███████▋  | 13/17 [00:37<00:06,  1.53s/it]"
     ]
    },
    {
     "name": "stdout",
     "output_type": "stream",
     "text": [
      "Cluster 12 has been divided into 17 clusters\n"
     ]
    },
    {
     "name": "stderr",
     "output_type": "stream",
     "text": [
      " 82%|████████▏ | 14/17 [00:38<00:04,  1.39s/it]"
     ]
    },
    {
     "name": "stdout",
     "output_type": "stream",
     "text": [
      "Cluster 13 has been divided into 15 clusters\n"
     ]
    },
    {
     "name": "stderr",
     "output_type": "stream",
     "text": [
      " 88%|████████▊ | 15/17 [00:38<00:02,  1.16s/it]"
     ]
    },
    {
     "name": "stdout",
     "output_type": "stream",
     "text": [
      "Cluster 14 has been divided into 10 clusters\n"
     ]
    },
    {
     "name": "stderr",
     "output_type": "stream",
     "text": [
      "100%|██████████| 17/17 [00:39<00:00,  2.33s/it]"
     ]
    },
    {
     "name": "stdout",
     "output_type": "stream",
     "text": [
      "Cluster 15 has been divided into 10 clusters\n",
      "16 is empty\n",
      "Vertices: 1, [0]\n"
     ]
    },
    {
     "name": "stderr",
     "output_type": "stream",
     "text": [
      "\n"
     ]
    }
   ],
   "source": [
    "cluster_set = []\n",
    "\n",
    "n_of_valid_vertices = 0\n",
    "mother_modularity = original_modularity\n",
    "for cluster_index, cluster_vertices in tqdm(enumerate(partition), total=len(partition)):\n",
    "    new_graph = []\n",
    "    for index in range(len(data)):\n",
    "        node1, node2 = data[index]\n",
    "        # assert node1 != node2\n",
    "        if node1 in cluster_vertices and node2 in cluster_vertices:\n",
    "            new_graph.append([node1, node2])\n",
    "\n",
    "    new_graph = np.array(new_graph)\n",
    "    unique_nodes, count = np.unique(new_graph, return_counts=True)\n",
    "    \n",
    "    # Mapping\n",
    "    old2new = {}\n",
    "    new2old = {}\n",
    "    for i, node in enumerate(unique_nodes):\n",
    "        old2new[node] = i\n",
    "        new2old[i] = node\n",
    "        \n",
    "    new_vertices = np.array([[old2new[node1], old2new[node2]] for node1, node2 in new_graph])\n",
    "    if len(new_vertices) == 0:\n",
    "        print(f'{cluster_index} is empty')\n",
    "        print(f\"Vertices: {len(cluster_vertices)}, {cluster_vertices}\")\n",
    "        # cluster_set.append(cluster_vertices)\n",
    "        continue\n",
    "        \n",
    "    # Generate sub-graphs\n",
    "    new_graph = ig.Graph(new_vertices, directed=False)\n",
    "    sub_partition = la.find_partition(new_graph, la.ModularityVertexPartition, n_iterations=iter, seed=7777)\n",
    "    if sub_partition.modularity < mother_modularity:\n",
    "        cluster_set.append(cluster_vertices)\n",
    "        continue\n",
    "    n_of_valid_vertices += len(cluster_vertices)\n",
    "\n",
    "    # if len(unique_nodes) != len(cluster_vertices):\n",
    "    #     print(list(unique_nodes))\n",
    "    #     print(cluster_vertices)\n",
    "\n",
    "    check_assert_list = []\n",
    "    for index, sub_vertices in enumerate(sub_partition):\n",
    "        old_sub_vertices = []\n",
    "        for new_vertex in sub_vertices:\n",
    "            old_sub_vertices.append(new2old[new_vertex])\n",
    "        check_assert_list.extend(old_sub_vertices)\n",
    "        if len(old_sub_vertices) != 0:\n",
    "            cluster_set.append(old_sub_vertices)\n",
    "    print(f\"Cluster {cluster_index} has been divided into {len(sub_partition)} clusters\")\n",
    "    #     assert len(old_sub_vertices) != 0\n",
    "    \n",
    "    # check_assert = False\n",
    "    # assert len(check_assert_list) == len(list(old2new.keys()))\n",
    "    # for node1, node2 in zip(sorted(check_assert_list), sorted(list(old2new.keys()))):\n",
    "    #     assert node1 == node2\n",
    "        "
   ]
  },
  {
   "cell_type": "code",
   "execution_count": 4,
   "metadata": {},
   "outputs": [
    {
     "name": "stdout",
     "output_type": "stream",
     "text": [
      "Found clusters: 231\n",
      "Total nodes: 10000\n"
     ]
    }
   ],
   "source": [
    "print(f\"Found clusters: {len(cluster_set)}\")\n",
    "total_nodes = 0\n",
    "for index, cluster in enumerate(cluster_set):\n",
    "    total_nodes += len(cluster)\n",
    "print(f\"Total nodes: {total_nodes}\")"
   ]
  },
  {
   "cell_type": "code",
   "execution_count": 5,
   "metadata": {},
   "outputs": [
    {
     "data": {
      "text/plain": [
       "<BarContainer object of 203 artists>"
      ]
     },
     "execution_count": 5,
     "metadata": {},
     "output_type": "execute_result"
    },
    {
     "data": {
      "image/png": "[encoded data removed]",
      "text/plain": [
       "<Figure size 2000x500 with 3 Axes>"
      ]
     },
     "metadata": {},
     "output_type": "display_data"
    }
   ],
   "source": [
    "fig, axes = plt.subplots(1, 3, figsize=(20, 5))\n",
    "counts = sorted([len(cluster) for cluster in partition])\n",
    "axes[2].bar(range(len(counts)), counts, color='b')\n",
    "\n",
    "counts = sorted([len(cluster) for cluster in cluster_set])\n",
    "axes[1].bar(range(len(counts)), counts, color='g')\n",
    "\n",
    "unique, counts = np.unique(labels, return_counts=True)\n",
    "counts = sorted(counts)\n",
    "axes[0].bar(range(len(counts)), counts, color='r')\n",
    "\n"
   ]
  },
  {
   "cell_type": "code",
   "execution_count": 7,
   "metadata": {},
   "outputs": [
    {
     "name": "stdout",
     "output_type": "stream",
     "text": [
      "Data number: 10\n",
      "Ori NMI: 0.12678448772894274\n",
      "Sub NMI: 0.3672048193478946\n",
      "Improvement:  0.24042033161895188 Percentage:  189.6291383319349\n",
      "Original modularity: 0.21181441655483504\n"
     ]
    }
   ],
   "source": [
    "pred_labels = [0] * (vertices - 1)\n",
    "for id, nodes in enumerate(cluster_set):\n",
    "    for node in nodes:\n",
    "        if node != 0:\n",
    "            pred_labels[node - 1] = id\n",
    "\n",
    "pred_labels = np.array(pred_labels)\n",
    "sub_nmi = normalized_mutual_info_score(answer[1], pred_labels)\n",
    "print(f\"Data number: {data_number}\")\n",
    "print(f\"Ori NMI: {original_nmi}\")\n",
    "print(f\"Sub NMI: {sub_nmi}\")\n",
    "\n",
    "print(\"Improvement: \", sub_nmi - original_nmi, \"Percentage: \", (sub_nmi - original_nmi) / original_nmi * 100)\n",
    "print(f\"Original modularity: {original_modularity}\")"
   ]
  }
 ],
 "metadata": {
  "kernelspec": {
   "display_name": "p3.8",
   "language": "python",
   "name": "python3"
  },
  "language_info": {
   "codemirror_mode": {
    "name": "ipython",
    "version": 3
   },
   "file_extension": ".py",
   "mimetype": "text/x-python",
   "name": "python",
   "nbconvert_exporter": "python",
   "pygments_lexer": "ipython3",
   "version": "3.10.10"
  }
 },
 "nbformat": 4,
 "nbformat_minor": 2
}
