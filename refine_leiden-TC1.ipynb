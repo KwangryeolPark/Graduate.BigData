{
 "cells": [
  {
   "cell_type": "code",
   "execution_count": 1,
   "metadata": {},
   "outputs": [
    {
     "name": "stdout",
     "output_type": "stream",
     "text": [
      "91 clusters found\n",
      "Number of vertexes: 10000\n"
     ]
    }
   ],
   "source": [
    "import numpy as np \n",
    "import igraph as ig\n",
    "import leidenalg as la\n",
    "import matplotlib.pyplot as plt\n",
    "import pandas as pd\n",
    "from tqdm import tqdm\n",
    "from sklearn.metrics import normalized_mutual_info_score\n",
    "\n",
    "iter = 2\n",
    "data_number = 2\n",
    "\n",
    "data_path = f'dataset/TC1-{data_number}/1-{data_number}.dat'\n",
    "label_path = f'dataset/TC1-{data_number}/1-{data_number}-c.dat'\n",
    "\n",
    "data = np.loadtxt(data_path).astype(int)\n",
    "graph = ig.Graph(data, directed=False)\n",
    "partition = la.find_partition(graph, la.ModularityVertexPartition, n_iterations=iter, seed=7777,)\n",
    "\n",
    "vertices = graph.vcount() - 1\n",
    "\n",
    "answer = pd.read_csv(label_path, sep='\\t', header=None)\n",
    "labels = answer[1].values\n",
    "\n",
    "print(f\"{len(partition)} clusters found\")\n",
    "print(f\"Number of vertexes: {vertices}\")"
   ]
  },
  {
   "cell_type": "code",
   "execution_count": 3,
   "metadata": {},
   "outputs": [
    {
     "name": "stdout",
     "output_type": "stream",
     "text": [
      "Original NMI: 0.9490596790200575\n",
      "Original modularity: 0.7375063175971819\n"
     ]
    }
   ],
   "source": [
    "pred_labels = [0] * (vertices)\n",
    "for id, nodes in enumerate(partition):\n",
    "    for node in nodes:\n",
    "        if node != 0:\n",
    "            pred_labels[node - 1] = id\n",
    "\n",
    "pred_labels = np.array(pred_labels)\n",
    "original_nmi = normalized_mutual_info_score(answer[1], pred_labels)\n",
    "\n",
    "original_modularity = partition.modularity\n",
    "print(f\"Original NMI: {original_nmi}\")\n",
    "print(f\"Original modularity: {original_modularity}\")"
   ]
  },
  {
   "cell_type": "code",
   "execution_count": null,
   "metadata": {},
   "outputs": [
    {
     "name": "stderr",
     "output_type": "stream",
     "text": [
      "100%|██████████| 91/91 [00:46<00:00,  1.96it/s]"
     ]
    },
    {
     "name": "stdout",
     "output_type": "stream",
     "text": [
      "90 is empty\n",
      "Vertices: 1, [0]\n"
     ]
    },
    {
     "name": "stderr",
     "output_type": "stream",
     "text": [
      "\n"
     ]
    }
   ],
   "source": [
    "cluster_set = []\n",
    "\n",
    "n_of_valid_vertices = 0\n",
    "mother_modularity = original_modularity\n",
    "for cluster_index, cluster_vertices in tqdm(enumerate(partition), total=len(partition)):\n",
    "    new_graph = []\n",
    "    for index in range(len(data)):\n",
    "        node1, node2 = data[index]\n",
    "        # assert node1 != node2\n",
    "        if node1 in cluster_vertices and node2 in cluster_vertices:\n",
    "            new_graph.append([node1, node2])\n",
    "\n",
    "    new_graph = np.array(new_graph)\n",
    "    unique_nodes, count = np.unique(new_graph, return_counts=True)\n",
    "    \n",
    "    # Mapping\n",
    "    old2new = {}\n",
    "    new2old = {}\n",
    "    for i, node in enumerate(unique_nodes):\n",
    "        old2new[node] = i\n",
    "        new2old[i] = node\n",
    "        \n",
    "    new_vertices = np.array([[old2new[node1], old2new[node2]] for node1, node2 in new_graph])\n",
    "    if len(new_vertices) == 0:\n",
    "        print(f'{cluster_index} is empty')\n",
    "        print(f\"Vertices: {len(cluster_vertices)}, {cluster_vertices}\")\n",
    "        cluster_set.append(cluster_vertices)\n",
    "        continue\n",
    "        \n",
    "    # Generate sub-graphs\n",
    "    new_graph = ig.Graph(new_vertices, directed=False)\n",
    "    sub_partition = la.find_partition(new_graph, la.ModularityVertexPartition, n_iterations=iter, seed=7777)\n",
    "    if sub_partition.modularity < mother_modularity:\n",
    "        cluster_set.append(cluster_vertices)\n",
    "        continue\n",
    "    n_of_valid_vertices += len(cluster_vertices)\n",
    "\n",
    "    # if len(unique_nodes) != len(cluster_vertices):\n",
    "    #     print(list(unique_nodes))\n",
    "    #     print(cluster_vertices)\n",
    "\n",
    "    check_assert_list = []\n",
    "    for index, sub_vertices in enumerate(sub_partition):\n",
    "        old_sub_vertices = []\n",
    "        for new_vertex in sub_vertices:\n",
    "            old_sub_vertices.append(new2old[new_vertex])\n",
    "        check_assert_list.extend(old_sub_vertices)\n",
    "        if len(old_sub_vertices) != 0:\n",
    "            cluster_set.append(old_sub_vertices)\n",
    "    print(f\"Cluster {cluster_index} has been divided into {len(sub_partition)} clusters\")\n",
    "    #     assert len(old_sub_vertices) != 0\n",
    "    \n",
    "    # check_assert = False\n",
    "    # assert len(check_assert_list) == len(list(old2new.keys()))\n",
    "    # for node1, node2 in zip(sorted(check_assert_list), sorted(list(old2new.keys()))):\n",
    "    #     assert node1 == node2\n",
    "        "
   ]
  },
  {
   "cell_type": "code",
   "execution_count": null,
   "metadata": {},
   "outputs": [
    {
     "name": "stdout",
     "output_type": "stream",
     "text": [
      "Found clusters: 91\n",
      "Total nodes: 10001\n"
     ]
    }
   ],
   "source": [
    "print(f\"Found clusters: {len(cluster_set)}\")\n",
    "total_nodes = 0\n",
    "for index, cluster in enumerate(cluster_set):\n",
    "    total_nodes += len(cluster)\n",
    "print(f\"Total nodes: {total_nodes}\")"
   ]
  },
  {
   "cell_type": "code",
   "execution_count": null,
   "metadata": {},
   "outputs": [
    {
     "data": {
      "text/plain": [
       "<BarContainer object of 211 artists>"
      ]
     },
     "execution_count": 5,
     "metadata": {},
     "output_type": "execute_result"
    },
    {
     "data": {
      "image/png": "[encoded data removed]",
      "text/plain": [
       "<Figure size 2000x500 with 3 Axes>"
      ]
     },
     "metadata": {},
     "output_type": "display_data"
    }
   ],
   "source": [
    "fig, axes = plt.subplots(1, 3, figsize=(20, 5))\n",
    "counts = sorted([len(cluster) for cluster in partition])\n",
    "axes[2].bar(range(len(counts)), counts, color='b')\n",
    "\n",
    "counts = sorted([len(cluster) for cluster in cluster_set])\n",
    "axes[1].bar(range(len(counts)), counts, color='g')\n",
    "\n",
    "unique, counts = np.unique(labels, return_counts=True)\n",
    "counts = sorted(counts)\n",
    "axes[0].bar(range(len(counts)), counts, color='r')\n",
    "\n"
   ]
  },
  {
   "cell_type": "code",
   "execution_count": null,
   "metadata": {},
   "outputs": [
    {
     "ename": "ValueError",
     "evalue": "Found input variables with inconsistent numbers of samples: [10000, 10001]",
     "output_type": "error",
     "traceback": [
      "\u001b[0;31m---------------------------------------------------------------------------\u001b[0m",
      "\u001b[0;31mValueError\u001b[0m                                Traceback (most recent call last)",
      "Cell \u001b[0;32mIn[6], line 7\u001b[0m\n\u001b[1;32m      4\u001b[0m         pred_labels[node \u001b[38;5;241m-\u001b[39m \u001b[38;5;241m1\u001b[39m] \u001b[38;5;241m=\u001b[39m \u001b[38;5;28mid\u001b[39m\n\u001b[1;32m      6\u001b[0m pred_labels \u001b[38;5;241m=\u001b[39m np\u001b[38;5;241m.\u001b[39marray(pred_labels)\n\u001b[0;32m----> 7\u001b[0m sub_nmi \u001b[38;5;241m=\u001b[39m \u001b[43mnormalized_mutual_info_score\u001b[49m\u001b[43m(\u001b[49m\u001b[43manswer\u001b[49m\u001b[43m[\u001b[49m\u001b[38;5;241;43m1\u001b[39;49m\u001b[43m]\u001b[49m\u001b[43m,\u001b[49m\u001b[43m \u001b[49m\u001b[43mpred_labels\u001b[49m\u001b[43m)\u001b[49m\n\u001b[1;32m      8\u001b[0m \u001b[38;5;28mprint\u001b[39m(\u001b[38;5;124mf\u001b[39m\u001b[38;5;124m\"\u001b[39m\u001b[38;5;124mData number: \u001b[39m\u001b[38;5;132;01m{\u001b[39;00mdata_number\u001b[38;5;132;01m}\u001b[39;00m\u001b[38;5;124m\"\u001b[39m)\n\u001b[1;32m      9\u001b[0m \u001b[38;5;28mprint\u001b[39m(\u001b[38;5;124mf\u001b[39m\u001b[38;5;124m\"\u001b[39m\u001b[38;5;124mOri NMI: \u001b[39m\u001b[38;5;132;01m{\u001b[39;00moriginal_nmi\u001b[38;5;132;01m}\u001b[39;00m\u001b[38;5;124m\"\u001b[39m)\n",
      "File \u001b[0;32m~/.miniconda3/lib/python3.10/site-packages/sklearn/utils/_param_validation.py:213\u001b[0m, in \u001b[0;36mvalidate_params.<locals>.decorator.<locals>.wrapper\u001b[0;34m(*args, **kwargs)\u001b[0m\n\u001b[1;32m    207\u001b[0m \u001b[38;5;28;01mtry\u001b[39;00m:\n\u001b[1;32m    208\u001b[0m     \u001b[38;5;28;01mwith\u001b[39;00m config_context(\n\u001b[1;32m    209\u001b[0m         skip_parameter_validation\u001b[38;5;241m=\u001b[39m(\n\u001b[1;32m    210\u001b[0m             prefer_skip_nested_validation \u001b[38;5;129;01mor\u001b[39;00m global_skip_validation\n\u001b[1;32m    211\u001b[0m         )\n\u001b[1;32m    212\u001b[0m     ):\n\u001b[0;32m--> 213\u001b[0m         \u001b[38;5;28;01mreturn\u001b[39;00m \u001b[43mfunc\u001b[49m\u001b[43m(\u001b[49m\u001b[38;5;241;43m*\u001b[39;49m\u001b[43margs\u001b[49m\u001b[43m,\u001b[49m\u001b[43m \u001b[49m\u001b[38;5;241;43m*\u001b[39;49m\u001b[38;5;241;43m*\u001b[39;49m\u001b[43mkwargs\u001b[49m\u001b[43m)\u001b[49m\n\u001b[1;32m    214\u001b[0m \u001b[38;5;28;01mexcept\u001b[39;00m InvalidParameterError \u001b[38;5;28;01mas\u001b[39;00m e:\n\u001b[1;32m    215\u001b[0m     \u001b[38;5;66;03m# When the function is just a wrapper around an estimator, we allow\u001b[39;00m\n\u001b[1;32m    216\u001b[0m     \u001b[38;5;66;03m# the function to delegate validation to the estimator, but we replace\u001b[39;00m\n\u001b[1;32m    217\u001b[0m     \u001b[38;5;66;03m# the name of the estimator by the name of the function in the error\u001b[39;00m\n\u001b[1;32m    218\u001b[0m     \u001b[38;5;66;03m# message to avoid confusion.\u001b[39;00m\n\u001b[1;32m    219\u001b[0m     msg \u001b[38;5;241m=\u001b[39m re\u001b[38;5;241m.\u001b[39msub(\n\u001b[1;32m    220\u001b[0m         \u001b[38;5;124mr\u001b[39m\u001b[38;5;124m\"\u001b[39m\u001b[38;5;124mparameter of \u001b[39m\u001b[38;5;124m\\\u001b[39m\u001b[38;5;124mw+ must be\u001b[39m\u001b[38;5;124m\"\u001b[39m,\n\u001b[1;32m    221\u001b[0m         \u001b[38;5;124mf\u001b[39m\u001b[38;5;124m\"\u001b[39m\u001b[38;5;124mparameter of \u001b[39m\u001b[38;5;132;01m{\u001b[39;00mfunc\u001b[38;5;241m.\u001b[39m\u001b[38;5;18m__qualname__\u001b[39m\u001b[38;5;132;01m}\u001b[39;00m\u001b[38;5;124m must be\u001b[39m\u001b[38;5;124m\"\u001b[39m,\n\u001b[1;32m    222\u001b[0m         \u001b[38;5;28mstr\u001b[39m(e),\n\u001b[1;32m    223\u001b[0m     )\n",
      "File \u001b[0;32m~/.miniconda3/lib/python3.10/site-packages/sklearn/metrics/cluster/_supervised.py:1145\u001b[0m, in \u001b[0;36mnormalized_mutual_info_score\u001b[0;34m(labels_true, labels_pred, average_method)\u001b[0m\n\u001b[1;32m   1061\u001b[0m \u001b[38;5;129m@validate_params\u001b[39m(\n\u001b[1;32m   1062\u001b[0m     {\n\u001b[1;32m   1063\u001b[0m         \u001b[38;5;124m\"\u001b[39m\u001b[38;5;124mlabels_true\u001b[39m\u001b[38;5;124m\"\u001b[39m: [\u001b[38;5;124m\"\u001b[39m\u001b[38;5;124marray-like\u001b[39m\u001b[38;5;124m\"\u001b[39m],\n\u001b[0;32m   (...)\u001b[0m\n\u001b[1;32m   1070\u001b[0m     labels_true, labels_pred, \u001b[38;5;241m*\u001b[39m, average_method\u001b[38;5;241m=\u001b[39m\u001b[38;5;124m\"\u001b[39m\u001b[38;5;124marithmetic\u001b[39m\u001b[38;5;124m\"\u001b[39m\n\u001b[1;32m   1071\u001b[0m ):\n\u001b[1;32m   1072\u001b[0m \u001b[38;5;250m    \u001b[39m\u001b[38;5;124;03m\"\"\"Normalized Mutual Information between two clusterings.\u001b[39;00m\n\u001b[1;32m   1073\u001b[0m \n\u001b[1;32m   1074\u001b[0m \u001b[38;5;124;03m    Normalized Mutual Information (NMI) is a normalization of the Mutual\u001b[39;00m\n\u001b[0;32m   (...)\u001b[0m\n\u001b[1;32m   1143\u001b[0m \u001b[38;5;124;03m      0.0\u001b[39;00m\n\u001b[1;32m   1144\u001b[0m \u001b[38;5;124;03m    \"\"\"\u001b[39;00m\n\u001b[0;32m-> 1145\u001b[0m     labels_true, labels_pred \u001b[38;5;241m=\u001b[39m \u001b[43mcheck_clusterings\u001b[49m\u001b[43m(\u001b[49m\u001b[43mlabels_true\u001b[49m\u001b[43m,\u001b[49m\u001b[43m \u001b[49m\u001b[43mlabels_pred\u001b[49m\u001b[43m)\u001b[49m\n\u001b[1;32m   1146\u001b[0m     classes \u001b[38;5;241m=\u001b[39m np\u001b[38;5;241m.\u001b[39munique(labels_true)\n\u001b[1;32m   1147\u001b[0m     clusters \u001b[38;5;241m=\u001b[39m np\u001b[38;5;241m.\u001b[39munique(labels_pred)\n",
      "File \u001b[0;32m~/.miniconda3/lib/python3.10/site-packages/sklearn/metrics/cluster/_supervised.py:73\u001b[0m, in \u001b[0;36mcheck_clusterings\u001b[0;34m(labels_true, labels_pred)\u001b[0m\n\u001b[1;32m     71\u001b[0m \u001b[38;5;28;01mif\u001b[39;00m labels_pred\u001b[38;5;241m.\u001b[39mndim \u001b[38;5;241m!=\u001b[39m \u001b[38;5;241m1\u001b[39m:\n\u001b[1;32m     72\u001b[0m     \u001b[38;5;28;01mraise\u001b[39;00m \u001b[38;5;167;01mValueError\u001b[39;00m(\u001b[38;5;124m\"\u001b[39m\u001b[38;5;124mlabels_pred must be 1D: shape is \u001b[39m\u001b[38;5;132;01m%r\u001b[39;00m\u001b[38;5;124m\"\u001b[39m \u001b[38;5;241m%\u001b[39m (labels_pred\u001b[38;5;241m.\u001b[39mshape,))\n\u001b[0;32m---> 73\u001b[0m \u001b[43mcheck_consistent_length\u001b[49m\u001b[43m(\u001b[49m\u001b[43mlabels_true\u001b[49m\u001b[43m,\u001b[49m\u001b[43m \u001b[49m\u001b[43mlabels_pred\u001b[49m\u001b[43m)\u001b[49m\n\u001b[1;32m     75\u001b[0m \u001b[38;5;28;01mreturn\u001b[39;00m labels_true, labels_pred\n",
      "File \u001b[0;32m~/.miniconda3/lib/python3.10/site-packages/sklearn/utils/validation.py:457\u001b[0m, in \u001b[0;36mcheck_consistent_length\u001b[0;34m(*arrays)\u001b[0m\n\u001b[1;32m    455\u001b[0m uniques \u001b[38;5;241m=\u001b[39m np\u001b[38;5;241m.\u001b[39munique(lengths)\n\u001b[1;32m    456\u001b[0m \u001b[38;5;28;01mif\u001b[39;00m \u001b[38;5;28mlen\u001b[39m(uniques) \u001b[38;5;241m>\u001b[39m \u001b[38;5;241m1\u001b[39m:\n\u001b[0;32m--> 457\u001b[0m     \u001b[38;5;28;01mraise\u001b[39;00m \u001b[38;5;167;01mValueError\u001b[39;00m(\n\u001b[1;32m    458\u001b[0m         \u001b[38;5;124m\"\u001b[39m\u001b[38;5;124mFound input variables with inconsistent numbers of samples: \u001b[39m\u001b[38;5;132;01m%r\u001b[39;00m\u001b[38;5;124m\"\u001b[39m\n\u001b[1;32m    459\u001b[0m         \u001b[38;5;241m%\u001b[39m [\u001b[38;5;28mint\u001b[39m(l) \u001b[38;5;28;01mfor\u001b[39;00m l \u001b[38;5;129;01min\u001b[39;00m lengths]\n\u001b[1;32m    460\u001b[0m     )\n",
      "\u001b[0;31mValueError\u001b[0m: Found input variables with inconsistent numbers of samples: [10000, 10001]"
     ]
    }
   ],
   "source": [
    "pred_labels = [0] * (vertices)\n",
    "for id, nodes in enumerate(partition):\n",
    "    for node in nodes:\n",
    "        if node != 0:\n",
    "            pred_labels[node - 1] = id\n",
    "\n",
    "pred_labels = np.array(pred_labels)\n",
    "sub_nmi = normalized_mutual_info_score(answer[1], pred_labels)\n",
    "print(f\"Data number: {data_number}\")\n",
    "print(f\"Ori NMI: {original_nmi}\")\n",
    "print(f\"Sub NMI: {sub_nmi}\")\n",
    "\n",
    "print(\"Improvement: \", sub_nmi - original_nmi, \"Percentage: \", (sub_nmi - original_nmi) / original_nmi * 100)\n",
    "print(f\"Original modularity: {original_modularity}\")"
   ]
  }
 ],
 "metadata": {
  "kernelspec": {
   "display_name": "p3.8",
   "language": "python",
   "name": "python3"
  },
  "language_info": {
   "codemirror_mode": {
    "name": "ipython",
    "version": 3
   },
   "file_extension": ".py",
   "mimetype": "text/x-python",
   "name": "python",
   "nbconvert_exporter": "python",
   "pygments_lexer": "ipython3",
   "version": "3.10.10"
  }
 },
 "nbformat": 4,
 "nbformat_minor": 2
}
